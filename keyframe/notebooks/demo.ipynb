{
 "cells": [
  {
   "cell_type": "markdown",
   "metadata": {
    "id": "-ovhZPNU1g2D"
   },
   "source": [
    "### Import following:\n",
    "- video.py\n",
    "- model.py\n",
    "- MS_SSIM_L1_loss.py\n",
    "- processing.py\n",
    "- make `checkpoints` folder anf upload weights"
   ]
  },
  {
   "cell_type": "code",
   "execution_count": null,
   "metadata": {
    "colab": {
     "base_uri": "https://localhost:8080/"
    },
    "id": "3E62OE1x3jo0",
    "outputId": "cfbba37a-ca6f-4e3b-a9bd-ae5fd6342658"
   },
   "outputs": [],
   "source": [
    "! pip3 install torch torchvision torchaudio\n",
    "! pip3 install numpy\n",
    "! pip3  install matplotlib\n",
    "! pip3 install pytorch-lightning"
   ]
  },
  {
   "cell_type": "code",
   "execution_count": 30,
   "metadata": {
    "id": "Ge29vp601g2F"
   },
   "outputs": [],
   "source": [
    "import time\n",
    "import os\n",
    "from video import Video\n",
    "from PIL import Image\n",
    "from IPython.display import display\n",
    "from processing import Helper\n",
    "from MS_SSIM_L1_loss import MS_SSIM_L1_LOSS\n",
    "import numpy as np\n",
    "import matplotlib.pyplot as plt"
   ]
  },
  {
   "cell_type": "code",
   "execution_count": null,
   "metadata": {
    "colab": {
     "base_uri": "https://localhost:8080/"
    },
    "id": "TeZWAL8X2_Cy",
    "outputId": "5e7b213c-006d-43ff-8ced-212003ff48a7"
   },
   "outputs": [],
   "source": [
    "from google.colab import drive\n",
    "\n",
    "drive.mount(\"/content/drive\")"
   ]
  },
  {
   "cell_type": "code",
   "execution_count": null,
   "metadata": {
    "colab": {
     "base_uri": "https://localhost:8080/"
    },
    "id": "ia_8vsnY3ovx",
    "outputId": "dd0018ec-6a3e-46d1-ad93-fef258837c12"
   },
   "outputs": [],
   "source": [
    "!unzip drive/MyDrive/VIDEOS.zip"
   ]
  },
  {
   "cell_type": "code",
   "execution_count": null,
   "metadata": {},
   "outputs": [],
   "source": [
    "VIDEO = \"V2\"\n",
    "PATH = \"./VIDEOS\"\n",
    "FILE_TYPE = \"mp4\"\n",
    "FULL_PATH = PATH + \"/\" + VIDEO + \".\" + FILE_TYPE\n",
    "THRESHOLD = 0.6"
   ]
  },
  {
   "cell_type": "code",
   "execution_count": null,
   "metadata": {},
   "outputs": [],
   "source": [
    "video_autoencoder = Video(\n",
    "    path=FULL_PATH, per_second_acquisition=5, use_model=True, threshold=THRESHOLD\n",
    ")\n",
    "video_no_autoencoder = Video(\n",
    "    path=FULL_PATH, per_second_acquisition=5, use_model=False, threshold=THRESHOLD\n",
    ")"
   ]
  },
  {
   "cell_type": "code",
   "execution_count": null,
   "metadata": {},
   "outputs": [],
   "source": [
    "print(\n",
    "    f\"number of deblurred frames in video with and without autoencoder: {len(video_autoencoder)}, {len(video_no_autoencoder)}\"\n",
    ")\n",
    "start_time = time.time()\n",
    "video_autoencoder.save(directory=PATH + \"/key/\" + VIDEO + \"/\", type=\"key\")\n",
    "print(f\"time to save with autoencoder:{time.time() - start_time} seconds\")\n",
    "start_time = time.time()\n",
    "video_no_autoencoder.save(directory=PATH + \"/nokey/\" + VIDEO + \"/\", type=\"key\")\n",
    "print(f\"time to save without autoencoder: {time.time() - start_time} seconds\")"
   ]
  },
  {
   "cell_type": "code",
   "execution_count": null,
   "metadata": {},
   "outputs": [],
   "source": [
    "frames_1, _ = video_autoencoder.get_generators()\n",
    "frames_2, _ = video_no_autoencoder.get_generators()\n",
    "function = MS_SSIM_L1_LOSS()"
   ]
  },
  {
   "cell_type": "code",
   "execution_count": null,
   "metadata": {},
   "outputs": [],
   "source": [
    "model_1 = Helper.load_model(video_autoencoder.use_model)\n",
    "diff_1, count_1 = Helper.MS_SSIM_L1_diff(frames_1, function, model_1)\n",
    "model_2 = Helper.load_model(video_no_autoencoder.use_model)\n",
    "diff_2, count_2 = Helper.MS_SSIM_L1_diff(frames_2, function, model_2)"
   ]
  },
  {
   "cell_type": "code",
   "execution_count": null,
   "metadata": {},
   "outputs": [],
   "source": [
    "assert count_2 == count_1\n",
    "fig = plt.figure()\n",
    "ax1 = fig.add_subplot(111)\n",
    "ax1.scatter(count_1, diff_1, label=\"with autoencoder\", c=\"b\", s=5)\n",
    "ax1.scatter(count_1, diff_2, label=\"sans autoencoder\", c=\"r\", s=5)\n",
    "plt.xlabel(\"image number\")\n",
    "plt.ylabel(\"MS-SSIM + L1 loss difference with previous image\")\n",
    "plt.legend(loc=\"upper left\")\n",
    "plt.show()"
   ]
  },
  {
   "cell_type": "code",
   "execution_count": null,
   "metadata": {
    "colab": {
     "base_uri": "https://localhost:8080/",
     "height": 1000
    },
    "id": "R6Ol31Cq5lkM",
    "outputId": "dbf09bee-1e69-4922-ee05-af119448e511"
   },
   "outputs": [],
   "source": [
    "folder1_path = \"./VIDEOS/key/\" + VIDEO + \"/\"\n",
    "folder2_path = \"./VIDEOS/nokey/\" + VIDEO + \"/\"\n",
    "\n",
    "folder1_files = sorted(os.listdir(folder1_path), key=Helper.key_func)\n",
    "folder2_files = sorted(os.listdir(folder2_path), key=Helper.key_func)"
   ]
  },
  {
   "cell_type": "code",
   "execution_count": null,
   "metadata": {},
   "outputs": [],
   "source": [
    "width, height = 2 * 300, 300\n",
    "merged_image = Image.new(\"RGB\", (width, height))\n",
    "\n",
    "min_length = min(len(folder1_files), len(folder2_files))\n",
    "max_length = max(len(folder1_files), len(folder2_files))\n",
    "\n",
    "if len(folder1_files) > len(folder2_files):\n",
    "    position = 0\n",
    "    p = folder1_path\n",
    "    f = folder1_files\n",
    "else:\n",
    "    position = 300\n",
    "    p = folder2_path\n",
    "    f = folder2_files\n",
    "\n",
    "for i in range(min_length):\n",
    "    image1 = Image.open(folder1_path + folder1_files[i])\n",
    "    image1 = image1.resize((300, 300))\n",
    "    merged_image.paste(image1, (0, 0))\n",
    "    image2 = Image.open(folder2_path + folder2_files[i])\n",
    "    image2 = image2.resize((300, 300))\n",
    "    merged_image.paste(image2, (300, 0))\n",
    "    print(f\"image # {i+1}:\")\n",
    "    display(merged_image)\n",
    "\n",
    "for i in range(min_length, max_length):\n",
    "    image = Image.open(p + f[i])\n",
    "    image = image.resize((300, 300))\n",
    "    merged_image.paste(image, (position, 0))\n",
    "    print(f\"image # {i+1}:\")\n",
    "    display(merged_image)"
   ]
  },
  {
   "cell_type": "code",
   "execution_count": null,
   "metadata": {},
   "outputs": [],
   "source": [
    "for i in range(min_length):\n",
    "    image1 = Image.open(folder1_path + folder1_files[i]).resize((300, 300))\n",
    "    image1 = np.array(image1)\n",
    "    image2 = Image.open(folder2_path + folder2_files[i]).resize((300, 300))\n",
    "    image2 = np.array(image2)\n",
    "    print(f\"image # {i+1}:\")\n",
    "    Helper.display_pairs(image1, image2, \"using autoencoder\", \"without autoencoder\")\n",
    "\n",
    "for i in range(min_length, max_length):\n",
    "    image = Image.open(p + f[i]).resize((300, 300))\n",
    "    image = np.array(image)\n",
    "    print(f\"image # {i+1}:\")\n",
    "    if not position:\n",
    "        Helper.display_pairs(image, image2, \"using autoencoder\", \"without autoencoder\")\n",
    "    else:\n",
    "        Helper.display_pairs(image1, image, \"using autoencoder\", \"without autoencoder\")"
   ]
  },
  {
   "cell_type": "code",
   "execution_count": null,
   "metadata": {
    "id": "pFyFDYuXSa5l"
   },
   "outputs": [],
   "source": [
    "import locale\n",
    "\n",
    "locale.getpreferredencoding = lambda: \"UTF-8\""
   ]
  },
  {
   "cell_type": "code",
   "execution_count": null,
   "metadata": {
    "colab": {
     "base_uri": "https://localhost:8080/"
    },
    "id": "eXNr3JdNW0Qz",
    "outputId": "040b4b4b-c504-4914-f697-a6c49ffd707b"
   },
   "outputs": [],
   "source": [
    "!zip -r VIDEOS/key/V2.zip VIDEOS/key/V2"
   ]
  },
  {
   "cell_type": "code",
   "execution_count": null,
   "metadata": {
    "colab": {
     "base_uri": "https://localhost:8080/",
     "height": 17
    },
    "id": "QOHl6cC2XGKw",
    "outputId": "0b6a8ca0-20f1-418c-d104-89c649e62517"
   },
   "outputs": [],
   "source": [
    "from google.colab import files\n",
    "\n",
    "files.download(\"V2.zip\")"
   ]
  }
 ],
 "metadata": {
  "accelerator": "GPU",
  "colab": {
   "provenance": []
  },
  "gpuClass": "standard",
  "kernelspec": {
   "display_name": "Python 3",
   "name": "python3"
  },
  "language_info": {
   "codemirror_mode": {
    "name": "ipython",
    "version": 3
   },
   "file_extension": ".py",
   "mimetype": "text/x-python",
   "name": "python",
   "nbconvert_exporter": "python",
   "pygments_lexer": "ipython3",
   "version": "3.10.8"
  },
  "orig_nbformat": 4
 },
 "nbformat": 4,
 "nbformat_minor": 0
}
