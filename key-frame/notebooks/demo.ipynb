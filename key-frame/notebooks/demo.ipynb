{
  "cells": [
    {
      "cell_type": "markdown",
      "metadata": {
        "id": "-ovhZPNU1g2D"
      },
      "source": [
        "### Import following:\n",
        "- video.py\n",
        "- model.py\n",
        "- MS_SSIM_L1_loss.py\n",
        "- processing.py\n",
        "- make `checkpoints` folder anf upload weights"
      ]
    },
    {
      "cell_type": "code",
      "source": [
        "! pip3 install torch torchvision torchaudio\n",
        "! pip3 install numpy\n",
        "! pip3  install matplotlib\n",
        "! pip3 install pytorch-lightning"
      ],
      "metadata": {
        "colab": {
          "base_uri": "https://localhost:8080/"
        },
        "id": "3E62OE1x3jo0",
        "outputId": "aac2554d-8f09-4ffb-b1ce-f466514bcede"
      },
      "execution_count": 1,
      "outputs": [
        {
          "output_type": "stream",
          "name": "stdout",
          "text": [
            "Looking in indexes: https://pypi.org/simple, https://us-python.pkg.dev/colab-wheels/public/simple/\n",
            "Requirement already satisfied: torch in /usr/local/lib/python3.10/dist-packages (2.0.0+cu118)\n",
            "Requirement already satisfied: torchvision in /usr/local/lib/python3.10/dist-packages (0.15.1+cu118)\n",
            "Requirement already satisfied: torchaudio in /usr/local/lib/python3.10/dist-packages (2.0.1+cu118)\n",
            "Requirement already satisfied: typing-extensions in /usr/local/lib/python3.10/dist-packages (from torch) (4.5.0)\n",
            "Requirement already satisfied: filelock in /usr/local/lib/python3.10/dist-packages (from torch) (3.12.0)\n",
            "Requirement already satisfied: triton==2.0.0 in /usr/local/lib/python3.10/dist-packages (from torch) (2.0.0)\n",
            "Requirement already satisfied: networkx in /usr/local/lib/python3.10/dist-packages (from torch) (3.1)\n",
            "Requirement already satisfied: sympy in /usr/local/lib/python3.10/dist-packages (from torch) (1.11.1)\n",
            "Requirement already satisfied: jinja2 in /usr/local/lib/python3.10/dist-packages (from torch) (3.1.2)\n",
            "Requirement already satisfied: cmake in /usr/local/lib/python3.10/dist-packages (from triton==2.0.0->torch) (3.25.2)\n",
            "Requirement already satisfied: lit in /usr/local/lib/python3.10/dist-packages (from triton==2.0.0->torch) (16.0.2)\n",
            "Requirement already satisfied: numpy in /usr/local/lib/python3.10/dist-packages (from torchvision) (1.22.4)\n",
            "Requirement already satisfied: pillow!=8.3.*,>=5.3.0 in /usr/local/lib/python3.10/dist-packages (from torchvision) (8.4.0)\n",
            "Requirement already satisfied: requests in /usr/local/lib/python3.10/dist-packages (from torchvision) (2.27.1)\n",
            "Requirement already satisfied: MarkupSafe>=2.0 in /usr/local/lib/python3.10/dist-packages (from jinja2->torch) (2.1.2)\n",
            "Requirement already satisfied: charset-normalizer~=2.0.0 in /usr/local/lib/python3.10/dist-packages (from requests->torchvision) (2.0.12)\n",
            "Requirement already satisfied: idna<4,>=2.5 in /usr/local/lib/python3.10/dist-packages (from requests->torchvision) (3.4)\n",
            "Requirement already satisfied: certifi>=2017.4.17 in /usr/local/lib/python3.10/dist-packages (from requests->torchvision) (2022.12.7)\n",
            "Requirement already satisfied: urllib3<1.27,>=1.21.1 in /usr/local/lib/python3.10/dist-packages (from requests->torchvision) (1.26.15)\n",
            "Requirement already satisfied: mpmath>=0.19 in /usr/local/lib/python3.10/dist-packages (from sympy->torch) (1.3.0)\n",
            "Looking in indexes: https://pypi.org/simple, https://us-python.pkg.dev/colab-wheels/public/simple/\n",
            "Requirement already satisfied: numpy in /usr/local/lib/python3.10/dist-packages (1.22.4)\n",
            "Looking in indexes: https://pypi.org/simple, https://us-python.pkg.dev/colab-wheels/public/simple/\n",
            "Requirement already satisfied: matplotlib in /usr/local/lib/python3.10/dist-packages (3.7.1)\n",
            "Requirement already satisfied: pillow>=6.2.0 in /usr/local/lib/python3.10/dist-packages (from matplotlib) (8.4.0)\n",
            "Requirement already satisfied: pyparsing>=2.3.1 in /usr/local/lib/python3.10/dist-packages (from matplotlib) (3.0.9)\n",
            "Requirement already satisfied: cycler>=0.10 in /usr/local/lib/python3.10/dist-packages (from matplotlib) (0.11.0)\n",
            "Requirement already satisfied: packaging>=20.0 in /usr/local/lib/python3.10/dist-packages (from matplotlib) (23.1)\n",
            "Requirement already satisfied: kiwisolver>=1.0.1 in /usr/local/lib/python3.10/dist-packages (from matplotlib) (1.4.4)\n",
            "Requirement already satisfied: python-dateutil>=2.7 in /usr/local/lib/python3.10/dist-packages (from matplotlib) (2.8.2)\n",
            "Requirement already satisfied: numpy>=1.20 in /usr/local/lib/python3.10/dist-packages (from matplotlib) (1.22.4)\n",
            "Requirement already satisfied: fonttools>=4.22.0 in /usr/local/lib/python3.10/dist-packages (from matplotlib) (4.39.3)\n",
            "Requirement already satisfied: contourpy>=1.0.1 in /usr/local/lib/python3.10/dist-packages (from matplotlib) (1.0.7)\n",
            "Requirement already satisfied: six>=1.5 in /usr/local/lib/python3.10/dist-packages (from python-dateutil>=2.7->matplotlib) (1.16.0)\n",
            "Looking in indexes: https://pypi.org/simple, https://us-python.pkg.dev/colab-wheels/public/simple/\n",
            "Requirement already satisfied: pytorch-lightning in /usr/local/lib/python3.10/dist-packages (2.0.2)\n",
            "Requirement already satisfied: torchmetrics>=0.7.0 in /usr/local/lib/python3.10/dist-packages (from pytorch-lightning) (0.11.4)\n",
            "Requirement already satisfied: lightning-utilities>=0.7.0 in /usr/local/lib/python3.10/dist-packages (from pytorch-lightning) (0.8.0)\n",
            "Requirement already satisfied: torch>=1.11.0 in /usr/local/lib/python3.10/dist-packages (from pytorch-lightning) (2.0.0+cu118)\n",
            "Requirement already satisfied: PyYAML>=5.4 in /usr/local/lib/python3.10/dist-packages (from pytorch-lightning) (6.0)\n",
            "Requirement already satisfied: tqdm>=4.57.0 in /usr/local/lib/python3.10/dist-packages (from pytorch-lightning) (4.65.0)\n",
            "Requirement already satisfied: typing-extensions>=4.0.0 in /usr/local/lib/python3.10/dist-packages (from pytorch-lightning) (4.5.0)\n",
            "Requirement already satisfied: packaging>=17.1 in /usr/local/lib/python3.10/dist-packages (from pytorch-lightning) (23.1)\n",
            "Requirement already satisfied: numpy>=1.17.2 in /usr/local/lib/python3.10/dist-packages (from pytorch-lightning) (1.22.4)\n",
            "Requirement already satisfied: fsspec[http]>2021.06.0 in /usr/local/lib/python3.10/dist-packages (from pytorch-lightning) (2023.4.0)\n",
            "Requirement already satisfied: requests in /usr/local/lib/python3.10/dist-packages (from fsspec[http]>2021.06.0->pytorch-lightning) (2.27.1)\n",
            "Requirement already satisfied: aiohttp!=4.0.0a0,!=4.0.0a1 in /usr/local/lib/python3.10/dist-packages (from fsspec[http]>2021.06.0->pytorch-lightning) (3.8.4)\n",
            "Requirement already satisfied: jinja2 in /usr/local/lib/python3.10/dist-packages (from torch>=1.11.0->pytorch-lightning) (3.1.2)\n",
            "Requirement already satisfied: triton==2.0.0 in /usr/local/lib/python3.10/dist-packages (from torch>=1.11.0->pytorch-lightning) (2.0.0)\n",
            "Requirement already satisfied: networkx in /usr/local/lib/python3.10/dist-packages (from torch>=1.11.0->pytorch-lightning) (3.1)\n",
            "Requirement already satisfied: filelock in /usr/local/lib/python3.10/dist-packages (from torch>=1.11.0->pytorch-lightning) (3.12.0)\n",
            "Requirement already satisfied: sympy in /usr/local/lib/python3.10/dist-packages (from torch>=1.11.0->pytorch-lightning) (1.11.1)\n",
            "Requirement already satisfied: lit in /usr/local/lib/python3.10/dist-packages (from triton==2.0.0->torch>=1.11.0->pytorch-lightning) (16.0.2)\n",
            "Requirement already satisfied: cmake in /usr/local/lib/python3.10/dist-packages (from triton==2.0.0->torch>=1.11.0->pytorch-lightning) (3.25.2)\n",
            "Requirement already satisfied: async-timeout<5.0,>=4.0.0a3 in /usr/local/lib/python3.10/dist-packages (from aiohttp!=4.0.0a0,!=4.0.0a1->fsspec[http]>2021.06.0->pytorch-lightning) (4.0.2)\n",
            "Requirement already satisfied: aiosignal>=1.1.2 in /usr/local/lib/python3.10/dist-packages (from aiohttp!=4.0.0a0,!=4.0.0a1->fsspec[http]>2021.06.0->pytorch-lightning) (1.3.1)\n",
            "Requirement already satisfied: attrs>=17.3.0 in /usr/local/lib/python3.10/dist-packages (from aiohttp!=4.0.0a0,!=4.0.0a1->fsspec[http]>2021.06.0->pytorch-lightning) (23.1.0)\n",
            "Requirement already satisfied: yarl<2.0,>=1.0 in /usr/local/lib/python3.10/dist-packages (from aiohttp!=4.0.0a0,!=4.0.0a1->fsspec[http]>2021.06.0->pytorch-lightning) (1.9.2)\n",
            "Requirement already satisfied: charset-normalizer<4.0,>=2.0 in /usr/local/lib/python3.10/dist-packages (from aiohttp!=4.0.0a0,!=4.0.0a1->fsspec[http]>2021.06.0->pytorch-lightning) (2.0.12)\n",
            "Requirement already satisfied: frozenlist>=1.1.1 in /usr/local/lib/python3.10/dist-packages (from aiohttp!=4.0.0a0,!=4.0.0a1->fsspec[http]>2021.06.0->pytorch-lightning) (1.3.3)\n",
            "Requirement already satisfied: multidict<7.0,>=4.5 in /usr/local/lib/python3.10/dist-packages (from aiohttp!=4.0.0a0,!=4.0.0a1->fsspec[http]>2021.06.0->pytorch-lightning) (6.0.4)\n",
            "Requirement already satisfied: MarkupSafe>=2.0 in /usr/local/lib/python3.10/dist-packages (from jinja2->torch>=1.11.0->pytorch-lightning) (2.1.2)\n",
            "Requirement already satisfied: certifi>=2017.4.17 in /usr/local/lib/python3.10/dist-packages (from requests->fsspec[http]>2021.06.0->pytorch-lightning) (2022.12.7)\n",
            "Requirement already satisfied: idna<4,>=2.5 in /usr/local/lib/python3.10/dist-packages (from requests->fsspec[http]>2021.06.0->pytorch-lightning) (3.4)\n",
            "Requirement already satisfied: urllib3<1.27,>=1.21.1 in /usr/local/lib/python3.10/dist-packages (from requests->fsspec[http]>2021.06.0->pytorch-lightning) (1.26.15)\n",
            "Requirement already satisfied: mpmath>=0.19 in /usr/local/lib/python3.10/dist-packages (from sympy->torch>=1.11.0->pytorch-lightning) (1.3.0)\n"
          ]
        }
      ]
    },
    {
      "cell_type": "code",
      "execution_count": 2,
      "metadata": {
        "id": "Ge29vp601g2F"
      },
      "outputs": [],
      "source": [
        "import time\n",
        "from video import Video"
      ]
    },
    {
      "cell_type": "code",
      "source": [
        "from google.colab import drive\n",
        "drive.mount('/content/drive')"
      ],
      "metadata": {
        "colab": {
          "base_uri": "https://localhost:8080/"
        },
        "id": "TeZWAL8X2_Cy",
        "outputId": "ca34caff-504e-48e5-d6d8-a69204274938"
      },
      "execution_count": 3,
      "outputs": [
        {
          "output_type": "stream",
          "name": "stdout",
          "text": [
            "Drive already mounted at /content/drive; to attempt to forcibly remount, call drive.mount(\"/content/drive\", force_remount=True).\n"
          ]
        }
      ]
    },
    {
      "cell_type": "code",
      "source": [
        "!unzip drive/MyDrive/VIDEOS.zip"
      ],
      "metadata": {
        "colab": {
          "base_uri": "https://localhost:8080/"
        },
        "id": "ia_8vsnY3ovx",
        "outputId": "ec296e12-32cb-4915-f446-7cec94dd010b"
      },
      "execution_count": 4,
      "outputs": [
        {
          "output_type": "stream",
          "name": "stdout",
          "text": [
            "Archive:  drive/MyDrive/VIDEOS.zip\n",
            "   creating: VIDEOS/\n",
            "  inflating: VIDEOS/V0.mp4           \n",
            "  inflating: VIDEOS/V1.mp4           \n",
            "  inflating: VIDEOS/V2.mp4           \n",
            "  inflating: VIDEOS/V3.mp4           \n",
            "  inflating: VIDEOS/V4.mp4           \n",
            "  inflating: VIDEOS/V5.mp4           \n"
          ]
        }
      ]
    },
    {
      "cell_type": "code",
      "execution_count": 4,
      "metadata": {
        "colab": {
          "base_uri": "https://localhost:8080/"
        },
        "id": "XN6iB4Td1g2H",
        "outputId": "d382ea28-0fa7-451b-f9d7-ac037e350c8f"
      },
      "outputs": [
        {
          "output_type": "stream",
          "name": "stdout",
          "text": [
            "Created generator objects\n",
            "FPS: 30.0\n",
            "Created generator objects\n",
            "number of deblurred frames: 753\n",
            "start inference from epoch 50\n",
            "FPS: 30.0\n",
            "Saved 78 number of key frames\n",
            "Created generator objects\n",
            "--- 188.94659662246704 seconds ---\n"
          ]
        }
      ],
      "source": [
        "start_time = time.time()\n",
        "VID = 'V2'\n",
        "PATH = './VIDEOS'\n",
        "video = Video(path=PATH+'/' + VID +\".mp4\", per_second_acquisition=5)\n",
        "print(f'number of deblurred frames: {len(video)}')\n",
        "video.save(directory=PATH+\"/key/\" + VID + \"/\", type='key')\n",
        "print(f\"--- {time.time() - start_time} seconds ---\")\n",
        "del video"
      ]
    },
    {
      "cell_type": "code",
      "source": [
        "import locale\n",
        "locale.getpreferredencoding = lambda: \"UTF-8\""
      ],
      "metadata": {
        "id": "pFyFDYuXSa5l"
      },
      "execution_count": 5,
      "outputs": []
    },
    {
      "cell_type": "code",
      "source": [
        "!zip -r VIDEOS/key/V2.zip VIDEOS/key/V2"
      ],
      "metadata": {
        "colab": {
          "base_uri": "https://localhost:8080/"
        },
        "id": "eXNr3JdNW0Qz",
        "outputId": "040b4b4b-c504-4914-f697-a6c49ffd707b"
      },
      "execution_count": 7,
      "outputs": [
        {
          "output_type": "stream",
          "name": "stdout",
          "text": [
            "  adding: VIDEOS/key/V2/ (stored 0%)\n",
            "  adding: VIDEOS/key/V2/s_16.png (deflated 6%)\n",
            "  adding: VIDEOS/key/V2/s_56.png (deflated 5%)\n",
            "  adding: VIDEOS/key/V2/s_34.png (deflated 4%)\n",
            "  adding: VIDEOS/key/V2/s_72.png (deflated 8%)\n",
            "  adding: VIDEOS/key/V2/s_59.png (deflated 5%)\n",
            "  adding: VIDEOS/key/V2/s_63.png (deflated 6%)\n",
            "  adding: VIDEOS/key/V2/s_31.png (deflated 4%)\n",
            "  adding: VIDEOS/key/V2/s_5.png (deflated 7%)\n",
            "  adding: VIDEOS/key/V2/s_77.png (deflated 9%)\n",
            "  adding: VIDEOS/key/V2/s_15.png (deflated 5%)\n",
            "  adding: VIDEOS/key/V2/s_6.png (deflated 6%)\n",
            "  adding: VIDEOS/key/V2/s_2.png (deflated 5%)\n",
            "  adding: VIDEOS/key/V2/s_20.png (deflated 6%)\n",
            "  adding: VIDEOS/key/V2/s_66.png (deflated 8%)\n",
            "  adding: VIDEOS/key/V2/s_68.png (deflated 6%)\n",
            "  adding: VIDEOS/key/V2/s_48.png (deflated 6%)\n",
            "  adding: VIDEOS/key/V2/s_13.png (deflated 6%)\n",
            "  adding: VIDEOS/key/V2/s_38.png (deflated 6%)\n",
            "  adding: VIDEOS/key/V2/s_22.png (deflated 5%)\n",
            "  adding: VIDEOS/key/V2/s_30.png (deflated 7%)\n",
            "  adding: VIDEOS/key/V2/s_12.png (deflated 5%)\n",
            "  adding: VIDEOS/key/V2/s_33.png (deflated 6%)\n",
            "  adding: VIDEOS/key/V2/s_42.png (deflated 5%)\n",
            "  adding: VIDEOS/key/V2/s_23.png (deflated 9%)\n",
            "  adding: VIDEOS/key/V2/s_27.png (deflated 5%)\n",
            "  adding: VIDEOS/key/V2/s_60.png (deflated 4%)\n",
            "  adding: VIDEOS/key/V2/s_28.png (deflated 4%)\n",
            "  adding: VIDEOS/key/V2/s_24.png (deflated 5%)\n",
            "  adding: VIDEOS/key/V2/s_41.png (deflated 5%)\n",
            "  adding: VIDEOS/key/V2/s_58.png (deflated 5%)\n",
            "  adding: VIDEOS/key/V2/s_11.png (deflated 5%)\n",
            "  adding: VIDEOS/key/V2/s_74.png (deflated 7%)\n",
            "  adding: VIDEOS/key/V2/s_57.png (deflated 4%)\n",
            "  adding: VIDEOS/key/V2/s_10.png (deflated 8%)\n",
            "  adding: VIDEOS/key/V2/s_53.png (deflated 12%)\n",
            "  adding: VIDEOS/key/V2/s_36.png (deflated 6%)\n",
            "  adding: VIDEOS/key/V2/s_73.png (deflated 8%)\n",
            "  adding: VIDEOS/key/V2/s_62.png (deflated 5%)\n",
            "  adding: VIDEOS/key/V2/s_35.png (deflated 5%)\n",
            "  adding: VIDEOS/key/V2/s_51.png (deflated 13%)\n",
            "  adding: VIDEOS/key/V2/s_21.png (deflated 5%)\n",
            "  adding: VIDEOS/key/V2/s_61.png (deflated 4%)\n",
            "  adding: VIDEOS/key/V2/s_52.png (deflated 5%)\n",
            "  adding: VIDEOS/key/V2/s_67.png (deflated 9%)\n",
            "  adding: VIDEOS/key/V2/s_76.png (deflated 11%)\n",
            "  adding: VIDEOS/key/V2/s_69.png (deflated 8%)\n",
            "  adding: VIDEOS/key/V2/s_54.png (deflated 9%)\n",
            "  adding: VIDEOS/key/V2/s_65.png (deflated 7%)\n",
            "  adding: VIDEOS/key/V2/s_55.png (deflated 7%)\n",
            "  adding: VIDEOS/key/V2/s_19.png (deflated 6%)\n",
            "  adding: VIDEOS/key/V2/s_64.png (deflated 5%)\n",
            "  adding: VIDEOS/key/V2/s_9.png (deflated 6%)\n",
            "  adding: VIDEOS/key/V2/s_14.png (deflated 5%)\n",
            "  adding: VIDEOS/key/V2/s_18.png (deflated 5%)\n",
            "  adding: VIDEOS/key/V2/s_43.png (deflated 7%)\n",
            "  adding: VIDEOS/key/V2/s_45.png (deflated 6%)\n",
            "  adding: VIDEOS/key/V2/s_26.png (deflated 7%)\n",
            "  adding: VIDEOS/key/V2/s_3.png (deflated 5%)\n",
            "  adding: VIDEOS/key/V2/s_49.png (deflated 4%)\n",
            "  adding: VIDEOS/key/V2/s_17.png (deflated 5%)\n",
            "  adding: VIDEOS/key/V2/s_46.png (deflated 7%)\n",
            "  adding: VIDEOS/key/V2/s_4.png (deflated 4%)\n",
            "  adding: VIDEOS/key/V2/s_39.png (deflated 9%)\n",
            "  adding: VIDEOS/key/V2/s_1.png (deflated 5%)\n",
            "  adding: VIDEOS/key/V2/s_25.png (deflated 7%)\n",
            "  adding: VIDEOS/key/V2/s_29.png (deflated 5%)\n",
            "  adding: VIDEOS/key/V2/s_70.png (deflated 9%)\n",
            "  adding: VIDEOS/key/V2/s_8.png (deflated 4%)\n",
            "  adding: VIDEOS/key/V2/s_75.png (deflated 10%)\n",
            "  adding: VIDEOS/key/V2/s_32.png (deflated 6%)\n",
            "  adding: VIDEOS/key/V2/s_71.png (deflated 8%)\n",
            "  adding: VIDEOS/key/V2/s_44.png (deflated 5%)\n",
            "  adding: VIDEOS/key/V2/s_7.png (deflated 5%)\n",
            "  adding: VIDEOS/key/V2/s_40.png (deflated 5%)\n",
            "  adding: VIDEOS/key/V2/s_50.png (deflated 6%)\n",
            "  adding: VIDEOS/key/V2/s_37.png (deflated 6%)\n",
            "  adding: VIDEOS/key/V2/s_47.png (deflated 6%)\n"
          ]
        }
      ]
    },
    {
      "cell_type": "code",
      "source": [
        "from google.colab import files\n",
        "files.download('V2.zip') "
      ],
      "metadata": {
        "colab": {
          "base_uri": "https://localhost:8080/",
          "height": 17
        },
        "id": "QOHl6cC2XGKw",
        "outputId": "0b6a8ca0-20f1-418c-d104-89c649e62517"
      },
      "execution_count": null,
      "outputs": [
        {
          "output_type": "display_data",
          "data": {
            "text/plain": [
              "<IPython.core.display.Javascript object>"
            ],
            "application/javascript": [
              "\n",
              "    async function download(id, filename, size) {\n",
              "      if (!google.colab.kernel.accessAllowed) {\n",
              "        return;\n",
              "      }\n",
              "      const div = document.createElement('div');\n",
              "      const label = document.createElement('label');\n",
              "      label.textContent = `Downloading \"${filename}\": `;\n",
              "      div.appendChild(label);\n",
              "      const progress = document.createElement('progress');\n",
              "      progress.max = size;\n",
              "      div.appendChild(progress);\n",
              "      document.body.appendChild(div);\n",
              "\n",
              "      const buffers = [];\n",
              "      let downloaded = 0;\n",
              "\n",
              "      const channel = await google.colab.kernel.comms.open(id);\n",
              "      // Send a message to notify the kernel that we're ready.\n",
              "      channel.send({})\n",
              "\n",
              "      for await (const message of channel.messages) {\n",
              "        // Send a message to notify the kernel that we're ready.\n",
              "        channel.send({})\n",
              "        if (message.buffers) {\n",
              "          for (const buffer of message.buffers) {\n",
              "            buffers.push(buffer);\n",
              "            downloaded += buffer.byteLength;\n",
              "            progress.value = downloaded;\n",
              "          }\n",
              "        }\n",
              "      }\n",
              "      const blob = new Blob(buffers, {type: 'application/binary'});\n",
              "      const a = document.createElement('a');\n",
              "      a.href = window.URL.createObjectURL(blob);\n",
              "      a.download = filename;\n",
              "      div.appendChild(a);\n",
              "      a.click();\n",
              "      div.remove();\n",
              "    }\n",
              "  "
            ]
          },
          "metadata": {}
        },
        {
          "output_type": "display_data",
          "data": {
            "text/plain": [
              "<IPython.core.display.Javascript object>"
            ],
            "application/javascript": [
              "download(\"download_f7b9649e-39b6-47e9-a3ca-726e6d9907b3\", \"V2.zip\", 5467583)"
            ]
          },
          "metadata": {}
        }
      ]
    }
  ],
  "metadata": {
    "language_info": {
      "name": "python"
    },
    "orig_nbformat": 4,
    "colab": {
      "provenance": []
    },
    "gpuClass": "standard",
    "kernelspec": {
      "name": "python3",
      "display_name": "Python 3"
    },
    "accelerator": "GPU"
  },
  "nbformat": 4,
  "nbformat_minor": 0
}